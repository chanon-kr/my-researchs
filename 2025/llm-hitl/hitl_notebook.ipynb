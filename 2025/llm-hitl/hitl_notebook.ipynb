{
 "cells": [
  {
   "cell_type": "markdown",
   "id": "2eb197e1",
   "metadata": {},
   "source": [
    "# HITL : The hard way\n",
    "\n",
    "<b>Reference :</b><br>\n",
    "https://langchain-ai.github.io/langgraph/how-tos/human_in_the_loop/add-human-in-the-loop/#validate-human-input"
   ]
  },
  {
   "cell_type": "code",
   "execution_count": 4,
   "id": "806f37aa",
   "metadata": {},
   "outputs": [],
   "source": [
    "# %%writefile .env\n",
    "# # MODEL\n",
    "# COMMON_LLM_MODEL=\"gemini-2.5-flash-lite\"\n",
    "# COMMON_LLM_PROVIDER=\"google_genai\"\n",
    "# GOOGLE_API_KEY=\"\"\n",
    "# # LANGSMITH\n",
    "# LANGSMITH_TRACING=true\n",
    "# LANGSMITH_ENDPOINT=\"https://api.smith.langchain.com\"\n",
    "# LANGSMITH_API_KEY=\"\"\n",
    "# LANGSMITH_PROJECT=\"\""
   ]
  },
  {
   "cell_type": "code",
   "execution_count": null,
   "id": "5a062354",
   "metadata": {},
   "outputs": [],
   "source": [
    "from dotenv import load_dotenv\n",
    "\n",
    "load_dotenv()\n",
    "\n",
    "from graph.base_graph import graph as base_graph\n",
    "from graph.hitl_graph import graph as hitl_graph\n",
    "from langgraph.types import Command"
   ]
  },
  {
   "cell_type": "markdown",
   "id": "697b66a5",
   "metadata": {},
   "source": [
    "## Case 1 : Basic"
   ]
  },
  {
   "cell_type": "code",
   "execution_count": null,
   "id": "62e884f9",
   "metadata": {},
   "outputs": [],
   "source": [
    "thread = {\"configurable\": {\"thread_id\": \"1\"}}\n",
    "\n",
    "r= base_graph.invoke({'messages' : 'I have 2 USD, what if I got 6 friends and each of them give me 3 USD?'}, thread)\n",
    "r"
   ]
  },
  {
   "cell_type": "markdown",
   "id": "5832270f",
   "metadata": {},
   "source": [
    "## Case 2 : Just confirm"
   ]
  },
  {
   "cell_type": "code",
   "execution_count": null,
   "id": "39bd002d",
   "metadata": {},
   "outputs": [],
   "source": [
    "thread = {\"configurable\": {\"thread_id\": \"2\"}}\n",
    "\n",
    "r1 = hitl_graph.invoke({'messages' : 'I have 2 USD, what if I got 6 friends and each of them give me 3 USD?'}, thread)\n",
    "r1"
   ]
  },
  {
   "cell_type": "code",
   "execution_count": null,
   "id": "a6339bcf",
   "metadata": {},
   "outputs": [],
   "source": [
    "r2 = hitl_graph.invoke(Command(resume=\"ok\"), config=thread)\n",
    "r2"
   ]
  },
  {
   "cell_type": "code",
   "execution_count": null,
   "id": "4489e4d3",
   "metadata": {},
   "outputs": [],
   "source": [
    "r3 = hitl_graph.invoke(Command(resume=\"ok\"), config=thread)\n",
    "r3"
   ]
  },
  {
   "cell_type": "markdown",
   "id": "5cf64093",
   "metadata": {},
   "source": [
    "## Case 3 : With adjustment"
   ]
  },
  {
   "cell_type": "code",
   "execution_count": null,
   "id": "e17da6b5",
   "metadata": {},
   "outputs": [],
   "source": [
    "thread = {\"configurable\": {\"thread_id\": \"3\"}}\n",
    "\n",
    "r1 = hitl_graph.invoke({'messages' : 'I have 2 USD, what if I got 6 friends and each of them give me 3 USD?'}, thread)\n",
    "r1"
   ]
  },
  {
   "cell_type": "code",
   "execution_count": null,
   "id": "fe7981bb",
   "metadata": {},
   "outputs": [],
   "source": [
    "r2 = hitl_graph.invoke(Command(resume=\"Actually, I have 5 friends\"), config=thread)\n",
    "r2"
   ]
  },
  {
   "cell_type": "code",
   "execution_count": null,
   "id": "73504a40",
   "metadata": {},
   "outputs": [],
   "source": [
    "r3 = hitl_graph.invoke(Command(resume=\"ok\"), config=thread)\n",
    "r3"
   ]
  },
  {
   "cell_type": "code",
   "execution_count": null,
   "id": "251c1b99",
   "metadata": {},
   "outputs": [],
   "source": [
    "r4 = hitl_graph.invoke(Command(resume=\"Oh, actually, I have 5 USD\"), config=thread)\n",
    "r4"
   ]
  },
  {
   "cell_type": "code",
   "execution_count": null,
   "id": "44df5e98",
   "metadata": {},
   "outputs": [],
   "source": [
    "r5 = hitl_graph.invoke(Command(resume=\"OK\"), config=thread)\n",
    "r5"
   ]
  }
 ],
 "metadata": {
  "kernelspec": {
   "display_name": ".venv",
   "language": "python",
   "name": "python3"
  },
  "language_info": {
   "codemirror_mode": {
    "name": "ipython",
    "version": 3
   },
   "file_extension": ".py",
   "mimetype": "text/x-python",
   "name": "python",
   "nbconvert_exporter": "python",
   "pygments_lexer": "ipython3",
   "version": "3.13.1"
  }
 },
 "nbformat": 4,
 "nbformat_minor": 5
}
