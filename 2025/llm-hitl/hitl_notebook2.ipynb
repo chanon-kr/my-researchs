{
 "cells": [
  {
   "cell_type": "markdown",
   "id": "faa01ff7",
   "metadata": {},
   "source": [
    "# HITL : Confirm any tool\n",
    "\n",
    "<b>Reference :</b><br>\n",
    "https://langchain-ai.github.io/langgraph/how-tos/human_in_the_loop/add-human-in-the-loop/#add-interrupts-to-any-tool"
   ]
  },
  {
   "cell_type": "code",
   "execution_count": null,
   "id": "e82a8f85",
   "metadata": {
    "vscode": {
     "languageId": "plaintext"
    }
   },
   "outputs": [],
   "source": []
  }
 ],
 "metadata": {
  "language_info": {
   "name": "python"
  }
 },
 "nbformat": 4,
 "nbformat_minor": 5
}
