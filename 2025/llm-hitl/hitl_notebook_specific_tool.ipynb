{
 "cells": [
  {
   "cell_type": "markdown",
   "id": "faa01ff7",
   "metadata": {},
   "source": [
    "# HITL : Custom Specific Tool\n",
    "\n",
    "<b>Reference :</b><br>\n",
    "https://langchain-ai.github.io/langgraph/how-tos/human_in_the_loop/add-human-in-the-loop/#review-tool-calls"
   ]
  },
  {
   "cell_type": "code",
   "execution_count": 1,
   "id": "7aadf0dd",
   "metadata": {},
   "outputs": [],
   "source": [
    "# %%writefile .env\n",
    "# # MODEL\n",
    "# COMMON_LLM_MODEL=\"gemini-2.5-flash-lite\"\n",
    "# COMMON_LLM_PROVIDER=\"google_genai\"\n",
    "# GOOGLE_API_KEY=\"\"\n",
    "# # LANGSMITH\n",
    "# LANGSMITH_TRACING=true\n",
    "# LANGSMITH_ENDPOINT=\"https://api.smith.langchain.com\"\n",
    "# LANGSMITH_API_KEY=\"\"\n",
    "# LANGSMITH_PROJECT=\"\""
   ]
  },
  {
   "cell_type": "code",
   "execution_count": 1,
   "id": "e82a8f85",
   "metadata": {},
   "outputs": [],
   "source": [
    "from dotenv import load_dotenv\n",
    "\n",
    "load_dotenv()\n",
    "\n",
    "from graph.hitl_specific_tools import graph as hitl_graph\n",
    "from langgraph.types import Command"
   ]
  },
  {
   "cell_type": "code",
   "execution_count": 2,
   "id": "52b17486",
   "metadata": {},
   "outputs": [
    {
     "name": "stdout",
     "output_type": "stream",
     "text": [
      "--Tool Calling Node--\n"
     ]
    },
    {
     "data": {
      "text/plain": [
       "{'messages': [HumanMessage(content='I have 2 USD, what if I got 6 friends and each of them give me 3 USD?', additional_kwargs={}, response_metadata={}, id='1e406e25-1cc3-435a-b5fd-2bec906a7f5f'),\n",
       "  AIMessage(content='', additional_kwargs={'function_call': {'name': 'multiply', 'arguments': '{\"b\": 3.0, \"a\": 6.0}'}}, response_metadata={'prompt_feedback': {'block_reason': 0, 'safety_ratings': []}, 'finish_reason': 'STOP', 'model_name': 'gemini-2.5-flash', 'safety_ratings': []}, id='run--e4328a73-39bf-4a7d-956a-87ea0ab3a295-0', tool_calls=[{'name': 'multiply', 'args': {'b': 3.0, 'a': 6.0}, 'id': '4756d9de-2b0f-4de3-a9d7-d99e86113449', 'type': 'tool_call'}], usage_metadata={'input_tokens': 232, 'output_tokens': 136, 'total_tokens': 368, 'input_token_details': {'cache_read': 0}, 'output_token_details': {'reasoning': 118}})],\n",
       " '__interrupt__': [Interrupt(value='About to run multiply of 6 and 3, please confirm with [OK] to run', resumable=True, ns=['tools:52c56800-08c1-5875-44b6-1b4243e54c59'])]}"
      ]
     },
     "execution_count": 2,
     "metadata": {},
     "output_type": "execute_result"
    }
   ],
   "source": [
    "thread = {\"configurable\": {\"thread_id\": \"2\"}}\n",
    "\n",
    "r1 = hitl_graph.invoke({'messages' : 'I have 2 USD, what if I got 6 friends and each of them give me 3 USD?'}, thread)\n",
    "r1"
   ]
  },
  {
   "cell_type": "code",
   "execution_count": 3,
   "id": "a0f37461",
   "metadata": {},
   "outputs": [
    {
     "name": "stdout",
     "output_type": "stream",
     "text": [
      "--Tool Calling Node--\n"
     ]
    },
    {
     "data": {
      "text/plain": [
       "{'messages': [HumanMessage(content='I have 2 USD, what if I got 6 friends and each of them give me 3 USD?', additional_kwargs={}, response_metadata={}, id='1e406e25-1cc3-435a-b5fd-2bec906a7f5f'),\n",
       "  AIMessage(content='', additional_kwargs={'function_call': {'name': 'multiply', 'arguments': '{\"b\": 3.0, \"a\": 6.0}'}}, response_metadata={'prompt_feedback': {'block_reason': 0, 'safety_ratings': []}, 'finish_reason': 'STOP', 'model_name': 'gemini-2.5-flash', 'safety_ratings': []}, id='run--e4328a73-39bf-4a7d-956a-87ea0ab3a295-0', tool_calls=[{'name': 'multiply', 'args': {'b': 3.0, 'a': 6.0}, 'id': '4756d9de-2b0f-4de3-a9d7-d99e86113449', 'type': 'tool_call'}], usage_metadata={'input_tokens': 232, 'output_tokens': 136, 'total_tokens': 368, 'input_token_details': {'cache_read': 0}, 'output_token_details': {'reasoning': 118}}),\n",
       "  ToolMessage(content='Human Response to Actually, I have 2 friends', name='multiply', id='016ab47e-b7bc-439a-b94c-a51c38303941', tool_call_id='4756d9de-2b0f-4de3-a9d7-d99e86113449'),\n",
       "  AIMessage(content='', additional_kwargs={'function_call': {'name': 'multiply', 'arguments': '{\"b\": 3.0, \"a\": 2.0}'}}, response_metadata={'prompt_feedback': {'block_reason': 0, 'safety_ratings': []}, 'finish_reason': 'STOP', 'model_name': 'gemini-2.5-flash', 'safety_ratings': []}, id='run--b4805d2d-5a79-49ad-8a22-0032324be03b-0', tool_calls=[{'name': 'multiply', 'args': {'b': 3.0, 'a': 2.0}, 'id': 'cf92af0e-86b5-41b3-8600-6e7249e19455', 'type': 'tool_call'}], usage_metadata={'input_tokens': 605, 'output_tokens': 241, 'total_tokens': 846, 'input_token_details': {'cache_read': 0}, 'output_token_details': {'reasoning': 223}})],\n",
       " '__interrupt__': [Interrupt(value='About to run multiply of 2 and 3, please confirm with [OK] to run', resumable=True, ns=['tools:d808ad13-55d2-3e84-f06b-f0a08a2186de'])]}"
      ]
     },
     "execution_count": 3,
     "metadata": {},
     "output_type": "execute_result"
    }
   ],
   "source": [
    "r2 = hitl_graph.invoke(Command(resume=\"Actually, I have 2 friends\"), config=thread)\n",
    "r2"
   ]
  },
  {
   "cell_type": "code",
   "execution_count": null,
   "id": "04896bc8",
   "metadata": {},
   "outputs": [
    {
     "name": "stdout",
     "output_type": "stream",
     "text": [
      "--Tool Calling Node--\n",
      "--Tool Calling Node--\n"
     ]
    },
    {
     "data": {
      "text/plain": [
       "{'messages': [HumanMessage(content='I have 2 USD, what if I got 6 friends and each of them give me 3 USD?', additional_kwargs={}, response_metadata={}, id='1e406e25-1cc3-435a-b5fd-2bec906a7f5f'),\n",
       "  AIMessage(content='', additional_kwargs={'function_call': {'name': 'multiply', 'arguments': '{\"b\": 3.0, \"a\": 6.0}'}}, response_metadata={'prompt_feedback': {'block_reason': 0, 'safety_ratings': []}, 'finish_reason': 'STOP', 'model_name': 'gemini-2.5-flash', 'safety_ratings': []}, id='run--e4328a73-39bf-4a7d-956a-87ea0ab3a295-0', tool_calls=[{'name': 'multiply', 'args': {'b': 3.0, 'a': 6.0}, 'id': '4756d9de-2b0f-4de3-a9d7-d99e86113449', 'type': 'tool_call'}], usage_metadata={'input_tokens': 232, 'output_tokens': 136, 'total_tokens': 368, 'input_token_details': {'cache_read': 0}, 'output_token_details': {'reasoning': 118}}),\n",
       "  ToolMessage(content='Human Response to Actually, I have 2 friends', name='multiply', id='016ab47e-b7bc-439a-b94c-a51c38303941', tool_call_id='4756d9de-2b0f-4de3-a9d7-d99e86113449'),\n",
       "  AIMessage(content='', additional_kwargs={'function_call': {'name': 'multiply', 'arguments': '{\"b\": 3.0, \"a\": 2.0}'}}, response_metadata={'prompt_feedback': {'block_reason': 0, 'safety_ratings': []}, 'finish_reason': 'STOP', 'model_name': 'gemini-2.5-flash', 'safety_ratings': []}, id='run--b4805d2d-5a79-49ad-8a22-0032324be03b-0', tool_calls=[{'name': 'multiply', 'args': {'b': 3.0, 'a': 2.0}, 'id': 'cf92af0e-86b5-41b3-8600-6e7249e19455', 'type': 'tool_call'}], usage_metadata={'input_tokens': 605, 'output_tokens': 241, 'total_tokens': 846, 'input_token_details': {'cache_read': 0}, 'output_token_details': {'reasoning': 223}}),\n",
       "  ToolMessage(content='6', name='multiply', id='1c871bde-cdda-445a-b17a-64e0b114c8a8', tool_call_id='cf92af0e-86b5-41b3-8600-6e7249e19455'),\n",
       "  AIMessage(content='', additional_kwargs={'function_call': {'name': 'add', 'arguments': '{\"b\": 6.0, \"a\": 2.0}'}}, response_metadata={'prompt_feedback': {'block_reason': 0, 'safety_ratings': []}, 'finish_reason': 'STOP', 'model_name': 'gemini-2.5-flash', 'safety_ratings': []}, id='run--c91ab7b2-36c6-47e2-b9cb-272dea549412-0', tool_calls=[{'name': 'add', 'args': {'b': 6.0, 'a': 2.0}, 'id': '368550b3-80f5-4432-8ea2-e61c726f072a', 'type': 'tool_call'}], usage_metadata={'input_tokens': 969, 'output_tokens': 218, 'total_tokens': 1187, 'input_token_details': {'cache_read': 0}, 'output_token_details': {'reasoning': 200}}),\n",
       "  ToolMessage(content='8', name='add', id='1964a81c-fb51-4d42-8fdf-dc3515aa4cad', tool_call_id='368550b3-80f5-4432-8ea2-e61c726f072a'),\n",
       "  AIMessage(content='You would have 8 USD.', additional_kwargs={}, response_metadata={'prompt_feedback': {'block_reason': 0, 'safety_ratings': []}, 'finish_reason': 'STOP', 'model_name': 'gemini-2.5-flash', 'safety_ratings': []}, id='run--dbe38568-5a5d-4ce7-87b7-4486c5202818-0', usage_metadata={'input_tokens': 1331, 'output_tokens': 185, 'total_tokens': 1516, 'input_token_details': {'cache_read': 0}, 'output_token_details': {'reasoning': 178}})]}"
      ]
     },
     "execution_count": 4,
     "metadata": {},
     "output_type": "execute_result"
    }
   ],
   "source": [
    "r3 = hitl_graph.invoke(Command(resume=\"ok\"), config=thread)\n",
    "r3"
   ]
  }
 ],
 "metadata": {
  "kernelspec": {
   "display_name": ".venv",
   "language": "python",
   "name": "python3"
  },
  "language_info": {
   "codemirror_mode": {
    "name": "ipython",
    "version": 3
   },
   "file_extension": ".py",
   "mimetype": "text/x-python",
   "name": "python",
   "nbconvert_exporter": "python",
   "pygments_lexer": "ipython3",
   "version": "3.13.1"
  }
 },
 "nbformat": 4,
 "nbformat_minor": 5
}
