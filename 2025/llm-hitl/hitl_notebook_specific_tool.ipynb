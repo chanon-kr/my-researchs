{
 "cells": [
  {
   "cell_type": "markdown",
   "id": "faa01ff7",
   "metadata": {},
   "source": [
    "# HITL : Custom Specific Tool\n",
    "\n",
    "<b>Reference :</b><br>\n",
    "https://langchain-ai.github.io/langgraph/how-tos/human_in_the_loop/add-human-in-the-loop/#review-tool-calls"
   ]
  },
  {
   "cell_type": "code",
   "execution_count": null,
   "id": "7aadf0dd",
   "metadata": {},
   "outputs": [],
   "source": [
    "# %%writefile .env\n",
    "# # MODEL\n",
    "# COMMON_LLM_MODEL=\"gemini-2.5-flash-lite\"\n",
    "# COMMON_LLM_PROVIDER=\"google_genai\"\n",
    "# GOOGLE_API_KEY=\"\"\n",
    "# # LANGSMITH\n",
    "# LANGSMITH_TRACING=true\n",
    "# LANGSMITH_ENDPOINT=\"https://api.smith.langchain.com\"\n",
    "# LANGSMITH_API_KEY=\"\"\n",
    "# LANGSMITH_PROJECT=\"\""
   ]
  },
  {
   "cell_type": "code",
   "execution_count": null,
   "id": "e82a8f85",
   "metadata": {},
   "outputs": [],
   "source": [
    "from dotenv import load_dotenv\n",
    "\n",
    "load_dotenv()\n",
    "\n",
    "from graph.hitl_specific_tools import graph as hitl_graph\n",
    "from langgraph.types import Command"
   ]
  },
  {
   "cell_type": "code",
   "execution_count": null,
   "id": "52b17486",
   "metadata": {},
   "outputs": [],
   "source": [
    "thread = {\"configurable\": {\"thread_id\": \"2\"}}\n",
    "\n",
    "r1 = hitl_graph.invoke({'messages' : 'I have 2 USD, what if I got 6 friends and each of them give me 3 USD?'}, thread)\n",
    "r1"
   ]
  },
  {
   "cell_type": "code",
   "execution_count": null,
   "id": "a0f37461",
   "metadata": {},
   "outputs": [],
   "source": [
    "r2 = hitl_graph.invoke(Command(resume=\"Actually, I have 2 friends\"), config=thread)\n",
    "r2"
   ]
  },
  {
   "cell_type": "code",
   "execution_count": null,
   "id": "04896bc8",
   "metadata": {},
   "outputs": [],
   "source": [
    "r3 = hitl_graph.invoke(Command(resume=\"ok\"), config=thread)\n",
    "r3"
   ]
  }
 ],
 "metadata": {
  "kernelspec": {
   "display_name": ".venv",
   "language": "python",
   "name": "python3"
  },
  "language_info": {
   "codemirror_mode": {
    "name": "ipython",
    "version": 3
   },
   "file_extension": ".py",
   "mimetype": "text/x-python",
   "name": "python",
   "nbconvert_exporter": "python",
   "pygments_lexer": "ipython3",
   "version": "3.13.1"
  }
 },
 "nbformat": 4,
 "nbformat_minor": 5
}
